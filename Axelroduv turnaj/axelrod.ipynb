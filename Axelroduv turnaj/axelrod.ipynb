{
 "cells": [
  {
   "cell_type": "code",
   "execution_count": 444,
   "metadata": {
    "collapsed": true
   },
   "outputs": [],
   "source": [
    "# Imports\n",
    "import random\n",
    "import numpy as np\n"
   ]
  },
  {
   "cell_type": "code",
   "execution_count": 445,
   "outputs": [],
   "source": [
    "\"\"\"\n",
    "Payout Matrix\n",
    "C - cooperate\n",
    "D - defect\n",
    "\n",
    "(x / y) => (player1 years of freedom / player2 years of freedom)\n",
    "\"\"\"\n",
    "payout = {\n",
    "    (\"C\", \"C\"): (3, 3),\n",
    "    (\"C\", \"D\"): (0, 5),\n",
    "    (\"D\", \"C\"): (5, 0),\n",
    "    (\"D\", \"D\"): (1, 1),\n",
    "}\n"
   ],
   "metadata": {
    "collapsed": false
   }
  },
  {
   "cell_type": "code",
   "execution_count": 446,
   "outputs": [],
   "source": [
    "\"\"\"\n",
    "Global variables and utility functions\n",
    "\"\"\"\n",
    "\n",
    "cooperate = \"C\"\n",
    "defect = \"D\"\n",
    "cooperate_or_deflect = [\"C\", \"D\"]\n",
    "\n",
    "# implementation of switch to get scores because old python :)\n",
    "# def get_scores(player1_move, player2_move):\n",
    "#     return tuple(map(int, payout.get((player1_move, player2_move), (0, 0))))\n",
    "\n",
    "\n",
    "\n",
    "# converting score to years of freedom\n",
    "def convert_scores_to_years_of_freedom(scores_):\n",
    "    return [(score, ) for score in scores_]\n",
    "\n"
   ],
   "metadata": {
    "collapsed": false
   }
  },
  {
   "cell_type": "code",
   "execution_count": 447,
   "outputs": [],
   "source": [
    "\"\"\"\n",
    "Implementation of strategies\n",
    "\"\"\"\n",
    "\n",
    "# win-stay strategy\n",
    "def win_stay(last_move, my_history, enemy_history, my_score, enemy_score):\n",
    "    if len(my_history) == 0:\n",
    "        return random.choice(cooperate_or_deflect)\n",
    "    elif enemy_history[-1] == cooperate:\n",
    "        return last_move\n",
    "    else:\n",
    "        return random.choice(cooperate_or_deflect)\n",
    "\n",
    "\n",
    "# lose-shift strategy\n",
    "def lose_shift(last_move, my_history, enemy_history, my_score, enemy_score):\n",
    "    if len(my_history) == 0:\n",
    "        return random.choice(cooperate_or_deflect)\n",
    "    elif enemy_history[-1] == defect:\n",
    "        return last_move\n",
    "    else:\n",
    "        return defect\n",
    "\n",
    "\n",
    "# tit-for-tat strategy\n",
    "def tit_for_tat(last_move, my_history, enemy_history, my_score, enemy_score):\n",
    "    if len(my_history) == 0:\n",
    "        return cooperate\n",
    "    else:\n",
    "        return enemy_history[-1]\n",
    "\n",
    "\n",
    "# start with cooperating, in the half game start defecting\n",
    "def fancy_betrayer(last_move, my_history, enemy_history, my_score, enemy_score):\n",
    "    if len(my_history) < len(enemy_history) / 2:\n",
    "        return cooperate\n",
    "    else:\n",
    "        return defect\n",
    "\n",
    "\n",
    "def mirroring(last_move, my_history, enemy_history, my_score, enemy_score):\n",
    "    if len(my_history) == 0:\n",
    "        return random.choice(cooperate_or_deflect)\n",
    "\n",
    "    my_last_move = my_history[-1]\n",
    "    enemy_last_move = enemy_history[-1]\n",
    "\n",
    "    if my_last_move == enemy_last_move:\n",
    "        return enemy_last_move\n",
    "    else:\n",
    "        return my_last_move\n"
   ],
   "metadata": {
    "collapsed": false
   }
  },
  {
   "cell_type": "code",
   "execution_count": 448,
   "outputs": [],
   "source": [
    "\"\"\"\n",
    "Implementation of playing single match and tournament\n",
    "\"\"\"\n",
    "\n",
    "# playing a single match\n",
    "def play_match(player1, player2, num_rounds_):\n",
    "    player1_score = 0\n",
    "    player2_score = 0\n",
    "    player1_history = []\n",
    "    player2_history = []\n",
    "\n",
    "    for round_ in range(num_rounds):\n",
    "        # player move\n",
    "        # player1_move = player1(player2_history[-1] if len(player2_history) > 0 else None, player1_history, player2_history, player1_score, player2_score)\n",
    "        # player2_move = player2(player1_history[-1] if len(player1_history) > 0 else None, player2_history, player1_history, player2_score, player1_score)\n",
    "        player1_move = player1(player2_history[-1] if len(player2_history) > 0 else None, player1_history, player2_history, player1_score, player2_score)\n",
    "        player2_move = player2(player1_history[-1] if len(player1_history) > 0 else None, player2_history, player1_history, player2_score, player1_score)\n",
    "\n",
    "\n",
    "        # get scores\n",
    "        if (player1_move, player2_move) in payout:\n",
    "            player1_score += payout[(player1_move, player2_move)][0]\n",
    "            player2_score += payout[(player1_move, player2_move)][1]\n",
    "\n",
    "        # update player's history\n",
    "        player1_history.append(player1_move)\n",
    "        player2_history.append(player2_move)\n",
    "\n",
    "    return player1_score, player2_score\n",
    "\n",
    "# playing tournament\n",
    "def play_tournament(strategies_, num_rounds_):\n",
    "    scores_ = {}\n",
    "\n",
    "    for strategy in strategies_:\n",
    "        scores_[strategy.__name__] = 0\n",
    "\n",
    "    for i in range(len(strategies_)):\n",
    "        for j in range(i + 1, len(strategies_)):\n",
    "            player1_score, player2_score = play_match(strategies_[i], strategies_[j], num_rounds_=num_rounds_)\n",
    "            scores_[strategies_[i].__name__] += player1_score\n",
    "            scores_[strategies_[j].__name__] += player2_score\n",
    "\n",
    "    return scores_\n",
    "\n"
   ],
   "metadata": {
    "collapsed": false
   }
  },
  {
   "cell_type": "code",
   "execution_count": 449,
   "outputs": [
    {
     "name": "stdout",
     "output_type": "stream",
     "text": [
      "fancy_betrayer scored 2004 years of freedom.\n",
      "tit_for_tat scored 1597 years of freedom.\n",
      "win_stay scored 1414 years of freedom.\n",
      "mirroring scored 1401 years of freedom.\n",
      "lose_shift scored 1151 years of freedom.\n"
     ]
    }
   ],
   "source": [
    "\"\"\"\n",
    "implementation\n",
    "\"\"\"\n",
    "\n",
    "strategies = [win_stay, lose_shift, tit_for_tat, fancy_betrayer, mirroring]\n",
    "num_rounds = 200\n",
    "\n",
    "scores = play_tournament(strategies, num_rounds_=num_rounds)\n",
    "years_of_freedom = convert_scores_to_years_of_freedom(list(scores.values()))\n",
    "\n",
    "player_years_of_freedom = []\n",
    "for strategy in strategies:\n",
    "    years_of_freedom_sum = sum(years_of_freedom[i][0] for i in range(len(years_of_freedom)) if strategy.__name__ == list(scores.keys())[i])\n",
    "    player_years_of_freedom.append((strategy.__name__, years_of_freedom_sum))\n",
    "\n",
    "player_years_of_freedom_sorted = sorted(player_years_of_freedom, key=lambda x: x[1], reverse=True)\n",
    "\n",
    "for name, years in player_years_of_freedom_sorted:\n",
    "    print(name, \"scored\", years, \"years of freedom.\")\n"
   ],
   "metadata": {
    "collapsed": false
   }
  },
  {
   "cell_type": "code",
   "execution_count": 449,
   "outputs": [],
   "source": [],
   "metadata": {
    "collapsed": false
   }
  }
 ],
 "metadata": {
  "kernelspec": {
   "display_name": "Python 3",
   "language": "python",
   "name": "python3"
  },
  "language_info": {
   "codemirror_mode": {
    "name": "ipython",
    "version": 2
   },
   "file_extension": ".py",
   "mimetype": "text/x-python",
   "name": "python",
   "nbconvert_exporter": "python",
   "pygments_lexer": "ipython2",
   "version": "2.7.6"
  }
 },
 "nbformat": 4,
 "nbformat_minor": 0
}
